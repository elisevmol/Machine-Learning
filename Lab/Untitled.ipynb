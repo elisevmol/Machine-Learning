{
 "cells": [
  {
   "cell_type": "code",
   "execution_count": 30,
   "metadata": {
    "collapsed": false
   },
   "outputs": [
    {
     "data": {
      "text/plain": [
       "[<a class=\"u-faux-block-link__overlay js-headline-text\" data-link-name=\"article\" href=\"https://www.theguardian.com/environment/2016/sep/27/revealed-how-senior-laos-officials-cut-deals-with-animal-traffickers\" tabindex=\"-1\">How senior Laos officials cut deals with animal traffickers</a>,\n",
       " <a class=\"u-faux-block-link__overlay js-headline-text\" data-link-name=\"article\" href=\"https://www.theguardian.com/world/2016/sep/27/timbuktu-shrines-icc-sentences-islamic-militant-nine-years-destruction-ahmad-al-faqi-al-mahdi\" tabindex=\"-1\">Islamic militant sentenced to nine years over Timbuktu destruction</a>,\n",
       " <a class=\"u-faux-block-link__overlay js-headline-text\" data-link-name=\"article\" href=\"https://www.theguardian.com/us-news/2016/sep/27/debate-clinton-trump-recap-presidential-election-hofstra\" tabindex=\"-1\">Clinton calm in debate as Trump struggles on various issues</a>,\n",
       " <a class=\"u-faux-block-link__overlay js-headline-text\" data-link-name=\"article\" href=\"https://www.theguardian.com/world/2016/sep/27/colombia-farc-peace-deal-resounds-homeland-uribe\" tabindex=\"-1\">Colombia peace deal resounds in Farc's homeland</a>,\n",
       " <a class=\"u-faux-block-link__overlay js-headline-text\" data-link-name=\"article\" href=\"http://www.theguardian.com/politics/2016/sep/27/boris-johnson-lauds-his-turkish-washing-machine-on-first-visit-to-ankara\" tabindex=\"-1\">Boris Johnson lauds his Turkish washing machine on first visit to Ankara</a>,\n",
       " <a class=\"u-faux-block-link__overlay js-headline-text\" data-link-name=\"article\" href=\"https://www.theguardian.com/world/2016/sep/27/dresden-mosque-congress-centre-two-bomb-blasts\" tabindex=\"-1\">Dresden mosque and congress centre hit by two bomb blasts</a>,\n",
       " <a class=\"u-faux-block-link__overlay js-headline-text\" data-link-name=\"article\" href=\"https://www.theguardian.com/world/2016/sep/26/hell-itself-aleppo-reels-from-alleged-use-of-bunker-buster-bombs\" tabindex=\"-1\">Aleppo reels from alleged use of bunker-buster bombs</a>,\n",
       " <a class=\"u-faux-block-link__overlay js-headline-text\" data-link-name=\"article\" href=\"https://www.theguardian.com/environment/2016/sep/27/more-than-million-died-due-air-pollution-china-one-year\" tabindex=\"-1\">China tops WHO list for deadly outdoor air pollution</a>,\n",
       " <a class=\"u-faux-block-link__overlay js-headline-text\" data-link-name=\"article\" href=\"https://www.theguardian.com/world/2016/sep/26/saudi-arabia-protest-petition-end-guardianship-law-women\" tabindex=\"-1\">Thousands sign petition to end male guardianship of women</a>,\n",
       " <a class=\"u-faux-block-link__overlay js-headline-text\" data-link-name=\"article\" href=\"https://www.theguardian.com/world/2016/sep/27/call-to-topple-christopher-columbus-statue-from-its-barcelona-perch\" tabindex=\"-1\">Call to topple Christopher Columbus statue from its Barcelona perch</a>,\n",
       " <a class=\"u-faux-block-link__overlay js-headline-text\" data-link-name=\"article\" href=\"https://www.theguardian.com/society/2016/sep/27/why-class-wont-go-away\" tabindex=\"-1\">Why class won\\u2019t go away</a>,\n",
       " <a class=\"u-faux-block-link__overlay js-headline-text\" data-link-name=\"article\" href=\"https://www.theguardian.com/books/booksblog/live/2016/sep/22/ali-smith-and-hg-wells-webchat-post-your-questions-now\" tabindex=\"-1\">Ask Ali Smith about HG Wells or her own writing</a>,\n",
       " <a class=\"u-faux-block-link__overlay js-headline-text\" data-link-name=\"article\" href=\"https://www.theguardian.com/cities/2016/sep/27/cities-eliminating-car-parks-parking\" tabindex=\"-1\">How cities around the world are eliminating car parks</a>,\n",
       " <a class=\"u-faux-block-link__overlay js-headline-text\" data-link-name=\"article\" href=\"https://www.theguardian.com/us-news/2016/sep/27/us-justice-system-crime-punishment-prison\" tabindex=\"-1\">Why it's time to rethink our kneejerk response to crime</a>,\n",
       " <a class=\"u-faux-block-link__overlay js-headline-text\" data-link-name=\"article\" href=\"https://www.theguardian.com/lifeandstyle/2016/sep/27/tinder-online-dating-apps-blind-dates-love\" tabindex=\"-1\">Tales from the frontline of modern dating</a>,\n",
       " <a class=\"u-faux-block-link__overlay js-headline-text\" data-link-name=\"article\" href=\"https://www.theguardian.com/football/live/2016/sep/27/englands-sam-allardyce-facing-fa-investigation-after-undercover-sting-live\" tabindex=\"-1\">Allardyce heads for crunch FA talks after undercover sting</a>,\n",
       " <a class=\"u-faux-block-link__overlay js-headline-text\" data-link-name=\"article\" href=\"https://www.theguardian.com/sport/2016/sep/27/chris-froome-urgent-action-tues-cycling-bradley-wiggins\" tabindex=\"-1\">Froome calls for urgent action on the use of TUEs</a>,\n",
       " <a class=\"u-faux-block-link__overlay js-headline-text\" data-link-name=\"article\" href=\"https://www.theguardian.com/football/blog/2016/sep/27/carli-lloyd-memoir-us-women-soccer\" tabindex=\"-1\">Lloyd's memoir explodes myth that US women's soccer is all fun and friends</a>,\n",
       " <a class=\"u-faux-block-link__overlay js-headline-text\" data-link-name=\"article\" href=\"https://www.theguardian.com/football/picture/2016/sep/27/david-squires-on-arsene-wengers-20-years-at-arsenal\" tabindex=\"-1\">Wenger's 20 years at Arsenal</a>,\n",
       " <a class=\"u-faux-block-link__overlay js-headline-text\" data-link-name=\"article\" href=\"https://www.theguardian.com/commentisfree/2016/sep/27/presidential-debate-reaction-hillary-clinton-donald-trump\" tabindex=\"-1\">Clinton weaponised Trump\\u2019s words</a>,\n",
       " <a class=\"u-faux-block-link__overlay js-headline-text\" data-link-name=\"article\" href=\"https://www.theguardian.com/commentisfree/2016/sep/27/stephen-hawking-light-years-dangerous-aliens\" tabindex=\"-1\">Why Stephen Hawking is light years from the truth about \\u2018dangerous aliens\\u2019</a>,\n",
       " <a class=\"u-faux-block-link__overlay js-headline-text\" data-link-name=\"article\" href=\"https://www.theguardian.com/commentisfree/2016/sep/27/guardian-view-on-us-presidential-debate-donald-trump-fails-test\" tabindex=\"-1\">Trump fails the test</a>,\n",
       " <a class=\"u-faux-block-link__overlay js-headline-text\" data-link-name=\"article\" href=\"https://www.theguardian.com/teacher-network/2016/sep/27/through-fantasy-children-face-their-fears-and-become-braver\" tabindex=\"-1\">Through fantasy stories, children face their fears and become braver</a>,\n",
       " <a class=\"u-faux-block-link__overlay js-headline-text\" data-link-name=\"article\" href=\"https://www.theguardian.com/commentisfree/2016/sep/27/high-five-justin-trudeau-canada-monarchy-queen-william-kate-george\" tabindex=\"-1\">Canadians are not vassals of the British crown \\u2013 it\\u2019s time we severed our ties</a>,\n",
       " <a class=\"u-faux-block-link__overlay js-headline-text\" data-link-name=\"article\" href=\"https://www.theguardian.com/world/2016/sep/27/air-france-fracas-15-go-on-trial-over-job-cuts-protest\" tabindex=\"-1\">15 go on trial over job cuts protest</a>,\n",
       " <a class=\"u-faux-block-link__overlay js-headline-text\" data-link-name=\"article\" href=\"https://www.theguardian.com/us-news/2016/sep/27/new-york-debate-drinking-game-trump-clinton-supporters\" tabindex=\"-1\">New Yorkers drink and vent for presidential debate</a>,\n",
       " <a class=\"u-faux-block-link__overlay js-headline-text\" data-link-name=\"article\" href=\"https://www.theguardian.com/world/2016/sep/27/thailand-investigates-suspected-cases-of-zika-linked-microcephaly\" tabindex=\"-1\">Suspected cases of Zika-linked microcephaly investigated</a>,\n",
       " <a class=\"u-faux-block-link__overlay js-headline-text\" data-link-name=\"article\" href=\"https://www.theguardian.com/us-news/2016/sep/27/californian-man-who-spoke-of-becoming-isis-martyr-in-syria-jailed-for-30-years\" tabindex=\"-1\">Man who spoke of becoming Isis martyr in Syria jailed for 30 years</a>,\n",
       " <a class=\"u-faux-block-link__overlay js-headline-text\" data-link-name=\"article\" href=\"https://www.theguardian.com/science/2016/sep/27/washing-clothes-releases-water-polluting-fibres-study-finds\" tabindex=\"-1\">Single clothes wash may release 700,000 microplastic fibres, study finds</a>,\n",
       " <a class=\"u-faux-block-link__overlay js-headline-text\" data-link-name=\"article\" href=\"https://www.theguardian.com/world/2016/sep/26/iceland-complains-russian-bombers-pose-danger-civilian-aircraft\" tabindex=\"-1\">Reykjavik complains Russian bombers pose 'danger to civilian aircraft'</a>,\n",
       " <a class=\"u-faux-block-link__overlay js-headline-text\" data-link-name=\"article\" href=\"https://www.theguardian.com/film/2016/sep/27/snowden-movie-preposterous-former-deputy-director-nsa-chris-inglis\" tabindex=\"-1\">Snowden movie 'preposterous', says former NSA deputy director</a>,\n",
       " <a class=\"u-faux-block-link__overlay js-headline-text\" data-link-name=\"article\" href=\"https://www.theguardian.com/world/2016/sep/26/canada-first-nations-prince-william-kate-middleton-british-columbia\" tabindex=\"-1\">First Nations chief won't join British royals for 'empty gesture' ceremony</a>,\n",
       " <a class=\"u-faux-block-link__overlay js-headline-text\" data-link-name=\"article\" href=\"https://www.theguardian.com/tv-and-radio/2016/sep/27/sabrina-teenage-witch-abc-tgif-melissa-joan-hart\" tabindex=\"-1\">How the show spelled a change in 90s TV</a>,\n",
       " <a class=\"u-faux-block-link__overlay js-headline-text\" data-link-name=\"article\" href=\"https://www.theguardian.com/tv-and-radio/2016/sep/27/how-we-made-modern-family-christopher-lloyd-steve-levitan\" tabindex=\"-1\">How we made Modern Family</a>,\n",
       " <a class=\"u-faux-block-link__overlay js-headline-text\" data-link-name=\"article\" href=\"https://www.theguardian.com/artanddesign/jonathanjonesblog/2016/sep/27/how-night-inspires-painters-munch-europe-towner-art-gallery-eastbourne\" tabindex=\"-1\">Dark arts: how night inspires great painters</a>,\n",
       " <a class=\"u-faux-block-link__overlay js-headline-text\" data-link-name=\"article\" href=\"https://www.theguardian.com/world/2016/sep/27/clubbing-birthplace-boko-haram-maiduguri-nigeria\" tabindex=\"-1\">Clubbing in the birthplace of Boko Haram</a>,\n",
       " <a class=\"u-faux-block-link__overlay js-headline-text\" data-link-name=\"article\" href=\"https://www.theguardian.com/technology/2016/sep/27/when-is-googles-birthday-surely-google-knows-you-do-know-right-google\" tabindex=\"-1\">Surely Google knows. You do know right, Google?</a>,\n",
       " <a class=\"u-faux-block-link__overlay js-headline-text\" data-link-name=\"article\" href=\"https://www.theguardian.com/us-news/2016/sep/27/dont-ask-dont-tell-repeal-anniversary-us-military\" tabindex=\"-1\">Military members 'out and proud' five years after 'don't ask, don't tell' repealed</a>,\n",
       " <a class=\"u-faux-block-link__overlay js-headline-text\" data-link-name=\"article\" href=\"https://www.theguardian.com/technology/2016/sep/27/data-efficiency-deep-learning\" tabindex=\"-1\">Why data is the new coal</a>,\n",
       " <a class=\"u-faux-block-link__overlay js-headline-text\" data-link-name=\"article\" href=\"https://www.theguardian.com/lifeandstyle/the-running-blog/2016/sep/27/the-gobi-desert-ultramarathon-the-hardest-race-in-the-world\" tabindex=\"-1\">The hardest race in the world?</a>,\n",
       " <a class=\"u-faux-block-link__overlay js-headline-text\" data-link-name=\"article\" href=\"https://www.theguardian.com/tv-and-radio/2016/sep/27/crisis-in-six-scenes-woody-allen-amazon-tv\" tabindex=\"-1\">What to expect in Woody Allen's new TV show</a>,\n",
       " <a class=\"u-faux-block-link__overlay js-headline-text\" data-link-name=\"article\" href=\"https://www.theguardian.com/tv-and-radio/2016/sep/27/luke-cage-jessica-jones-superwoman-marvel-dc\" tabindex=\"-1\">Why superhero TV is better than the movies</a>,\n",
       " <a class=\"u-faux-block-link__overlay js-headline-text\" data-link-name=\"article\" href=\"https://www.theguardian.com/global-development/2016/sep/27/displaced-women-bangui-create-safe-haven-amidst-horror-violence-central-african-republic\" tabindex=\"-1\">Displaced women in Bangui create a safe haven amidst horror and violence</a>,\n",
       " <a class=\"u-faux-block-link__overlay js-headline-text\" data-link-name=\"article\" href=\"https://www.theguardian.com/environment/2016/sep/27/can-the-aviation-industry-finally-clean-up-its-emissions\" tabindex=\"-1\">Can the aviation industry finally clean up its emissions?</a>,\n",
       " <a class=\"u-faux-block-link__overlay js-headline-text\" data-link-name=\"article\" href=\"https://www.theguardian.com/science/2016/sep/26/jupiter-europa-water-plumes-nasa\" tabindex=\"-1\">Jupiter's moon may expel water plumes from under icy shell, Nasa says</a>,\n",
       " <a class=\"u-faux-block-link__overlay js-headline-text\" data-link-name=\"article\" href=\"https://www.theguardian.com/artanddesign/2016/sep/26/turner-prize-2016-review-tate-britain-micheal-dean-anthea-hamilton-helen-marten-josephine-pryde\" tabindex=\"-1\">Bleak and baffling, but no bum deal</a>,\n",
       " <a class=\"u-faux-block-link__overlay js-headline-text\" data-link-name=\"article\" href=\"https://www.theguardian.com/music/2016/sep/27/thurston-moore-chelsea-manning-whistleblowers-cassette\" tabindex=\"-1\">Whistleblowers want to protect the US</a>,\n",
       " <a class=\"u-faux-block-link__overlay js-headline-text\" data-link-name=\"article\" href=\"https://www.theguardian.com/music/musicblog/2016/sep/27/manu-chao-barcelona-la-merce\" tabindex=\"-1\">The king of global folk punk returns home</a>,\n",
       " <a class=\"u-faux-block-link__overlay js-headline-text\" data-link-name=\"article\" href=\"https://www.theguardian.com/music/2016/sep/27/rostam-batmanglij-hamilton-leithauser-vampire-weekend-walkmen\" tabindex=\"-1\">The last men standing in indie New York</a>,\n",
       " <a class=\"u-faux-block-link__overlay js-headline-text\" data-link-name=\"article\" href=\"https://www.theguardian.com/books/booksblog/2016/sep/27/bruce-springsteen-is-a-great-songwriter-but-that-rarely-makes-for-great-memoirs\" tabindex=\"-1\">He's a great songwriter \\u2013 but that rarely makes for great memoirs</a>,\n",
       " <a class=\"u-faux-block-link__overlay js-headline-text\" data-link-name=\"article\" href=\"https://www.theguardian.com/fashion/2016/sep/27/is-athleisure-dying-out\" tabindex=\"-1\">Is athleisure dying out?</a>,\n",
       " <a class=\"u-faux-block-link__overlay js-headline-text\" data-link-name=\"article\" href=\"https://www.theguardian.com/global-development-professionals-network/2016/sep/27/29-tips-on-how-to-be-a-horrible-boss\" tabindex=\"-1\">29 tips on how to be a horrible boss</a>,\n",
       " <a class=\"u-faux-block-link__overlay js-headline-text\" data-link-name=\"article\" href=\"https://www.theguardian.com/lifeandstyle/2016/sep/27/nigel-slater-potatoes-and-peppers-recipe\" tabindex=\"-1\">Nigel Slater\\u2019s potatoes and peppers</a>,\n",
       " <a class=\"u-faux-block-link__overlay js-headline-text\" data-link-name=\"article\" href=\"https://www.theguardian.com/news/gallery/2016/sep/27/photo-highlights-of-the-day-corbyn-at-school-a-mexican-demo\" tabindex=\"-1\">Jeremy Corbyn at a school and a Mexican protest</a>]"
      ]
     },
     "execution_count": 30,
     "metadata": {},
     "output_type": "execute_result"
    }
   ],
   "source": [
    "from urllib2 import urlopen\n",
    "from bs4 import BeautifulSoup\n",
    "html = urlopen(\"https://www.theguardian.com/international\")\n",
    "soup = BeautifulSoup(html.read(), \"html\")\n",
    "#print soup.prettify()\n",
    "\n",
    "soup.findAll(\"a\", {\"class\" : \"u-faux-block-link__overlay js-headline-text\"}, recursive=True)"
   ]
  },
  {
   "cell_type": "code",
   "execution_count": null,
   "metadata": {
    "collapsed": true
   },
   "outputs": [],
   "source": []
  }
 ],
 "metadata": {
  "anaconda-cloud": {},
  "kernelspec": {
   "display_name": "Python [Root]",
   "language": "python",
   "name": "Python [Root]"
  },
  "language_info": {
   "codemirror_mode": {
    "name": "ipython",
    "version": 2
   },
   "file_extension": ".py",
   "mimetype": "text/x-python",
   "name": "python",
   "nbconvert_exporter": "python",
   "pygments_lexer": "ipython2",
   "version": "2.7.12"
  }
 },
 "nbformat": 4,
 "nbformat_minor": 0
}
