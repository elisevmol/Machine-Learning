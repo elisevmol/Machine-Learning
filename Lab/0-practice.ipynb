{
 "cells": [
  {
   "cell_type": "markdown",
   "metadata": {},
   "source": [
    "# Introduction\n",
    "\n",
    "In this session we will get familiar with Python, the iPython notebook (IPYNB) and some useful numeric/plotting libraries\n",
    "\n",
    "An IPYNB is built up from cells (also known as segments or blocks), there exists several kinds of cells. This is a \"markdown\" cell and the next cell is a code cell.\n",
    "\n",
    "In the next cell three libraries are imported in one go: Numpy, Scipy and Matplotlib.\n",
    "\n",
    "* The main functionality of Numpy is arrays, which represent vectors and matrices. These can be used for doing all sorts of computations. Numpy functions can be accessed with the prefix np.\n",
    "\n",
    "* Scipy is a large scientific library for all sorts of more advanced functions. Such as automatic optimization, sampling from many different probability distributions and automatically solving Differential Equations. In short, you will likely not use it during this course, but it might be useful for the future. Scipy functions can be accessed with the prefix sp.\n",
    "\n",
    "* With Matplotlib it becomes trivial to make all sorts of visualizations. Matplotlib functions can be accessed with the prefix plt."
   ]
  },
  {
   "cell_type": "code",
   "execution_count": 1,
   "metadata": {
    "collapsed": false
   },
   "outputs": [
    {
     "name": "stderr",
     "output_type": "stream",
     "text": [
      "/Users/imac/anaconda2/lib/python2.7/site-packages/matplotlib/font_manager.py:273: UserWarning: Matplotlib is building the font cache using fc-list. This may take a moment.\n",
      "  warnings.warn('Matplotlib is building the font cache using fc-list. This may take a moment.')\n"
     ]
    },
    {
     "name": "stdout",
     "output_type": "stream",
     "text": [
      "Populating the interactive namespace from numpy and matplotlib\n"
     ]
    }
   ],
   "source": [
    "#Select this cell and press shift+enter or the play arrow to run it\n",
    "%pylab inline\n",
    "\n",
    "#Pylab includes numpy, scipy and matplotlib\n",
    "#The 'inline' is necessary for plots to show up inside the IPYNB"
   ]
  },
  {
   "cell_type": "markdown",
   "metadata": {},
   "source": [
    "Let's start by exploring several basic Numpy functions:"
   ]
  },
  {
   "cell_type": "code",
   "execution_count": 3,
   "metadata": {
    "collapsed": false
   },
   "outputs": [
    {
     "name": "stdout",
     "output_type": "stream",
     "text": [
      "[0 1 2 3 4 5]\n",
      "[ 0.   0.1  0.2  0.3  0.4  0.5]\n"
     ]
    },
    {
     "data": {
      "text/plain": [
       "[<matplotlib.lines.Line2D at 0x10c55a590>]"
      ]
     },
     "execution_count": 3,
     "metadata": {},
     "output_type": "execute_result"
    },
    {
     "data": {
      "image/png": "[encoded data removed]",
      "text/plain": [
       "<matplotlib.figure.Figure at 0x1020e49d0>"
      ]
     },
     "metadata": {},
     "output_type": "display_data"
    }
   ],
   "source": [
    "#The function np.array, creates a Numpy array from a list.\n",
    "vector_x = np.array([0,1,2,3,4,5])\n",
    "vector_y = np.array([0,0.1,0.2,0.3,0.4,0.5])\n",
    " \n",
    "print vector_x\n",
    "print vector_y\n",
    "    \n",
    "plt.plot(vector_x,vector_y,'o')"
   ]
  },
  {
   "cell_type": "code",
   "execution_count": 4,
   "metadata": {
    "collapsed": false
   },
   "outputs": [
    {
     "data": {
      "text/plain": [
       "[<matplotlib.lines.Line2D at 0x10c67e0d0>]"
      ]
     },
     "execution_count": 4,
     "metadata": {},
     "output_type": "execute_result"
    },
    {
     "data": {
      "image/png": "[encoded data removed]",
      "text/plain": [
       "<matplotlib.figure.Figure at 0x1020377d0>"
      ]
     },
     "metadata": {},
     "output_type": "display_data"
    }
   ],
   "source": [
    "#To get a line, leave out the 'o' parameter\n",
    "plt.plot(vector_x,vector_y)"
   ]
  },
  {
   "cell_type": "code",
   "execution_count": 5,
   "metadata": {
    "collapsed": false,
    "scrolled": true
   },
   "outputs": [
    {
     "name": "stdout",
     "output_type": "stream",
     "text": [
      "[0 1 2 3 4 5]\n",
      "[ 0.   0.1  0.2  0.3  0.4  0.5]\n"
     ]
    },
    {
     "data": {
      "text/plain": [
       "[<matplotlib.lines.Line2D at 0x10b2b55d0>]"
      ]
     },
     "execution_count": 5,
     "metadata": {},
     "output_type": "execute_result"
    },
    {
     "data": {
      "image/png": "[encoded data removed]",
      "text/plain": [
       "<matplotlib.figure.Figure at 0x10af32f10>"
      ]
     },
     "metadata": {},
     "output_type": "display_data"
    }
   ],
   "source": [
    "#In order to create a vector with a range of numbers, use arange:\n",
    "vector2 = np.arange(0,6)\n",
    "vector3 = np.arange(0,0.6,0.1)\n",
    "print vector2 #Mind that the number 6 is excluded and that there are 6 items in the vector2\n",
    "print vector3\n",
    "\n",
    "plt.plot(vector2,vector3,'o')\n",
    "#Notice anything special about this plot in comparison to the last plot?"
   ]
  },
  {
   "cell_type": "code",
   "execution_count": 6,
   "metadata": {
    "collapsed": false
   },
   "outputs": [
    {
     "name": "stdout",
     "output_type": "stream",
     "text": [
      "6\n"
     ]
    }
   ],
   "source": [
    "print vector2.size #The number of elements in the vector"
   ]
  },
  {
   "cell_type": "code",
   "execution_count": 7,
   "metadata": {
    "collapsed": false
   },
   "outputs": [
    {
     "name": "stdout",
     "output_type": "stream",
     "text": [
      "(6,)\n",
      "[[ 0  1  2  3  4]\n",
      " [ 5  6  7  8  9]\n",
      " [10 11 12 13 14]\n",
      " [15 16 17 18 19]]\n",
      "(4, 5)\n"
     ]
    }
   ],
   "source": [
    "vector4 = np.arange(0,20)\n",
    "print vector2.shape #The shape of the vector\n",
    "\n",
    "matrix1 = vector4.reshape(4,5) #Reshape the vector in a matrix form\n",
    "print matrix1\n",
    "print matrix1.shape"
   ]
  },
  {
   "cell_type": "code",
   "execution_count": 9,
   "metadata": {
    "collapsed": false
   },
   "outputs": [
    {
     "name": "stdout",
     "output_type": "stream",
     "text": [
      "0\n"
     ]
    }
   ],
   "source": [
    "# the number 6 (or more generally the (2,2)-element of the matrix) is accessed by the\n",
    "# following command. The first 1 specifies the row number the second 1 specifies the\n",
    "# column number\n",
    "print(matrix1[0,0])"
   ]
  },
  {
   "cell_type": "code",
   "execution_count": 10,
   "metadata": {
    "collapsed": false
   },
   "outputs": [
    {
     "name": "stdout",
     "output_type": "stream",
     "text": [
      "[[ 0  5 10 15]\n",
      " [ 1  6 11 16]\n",
      " [ 2  7 12 17]\n",
      " [ 3  8 13 18]\n",
      " [ 4  9 14 19]]\n"
     ]
    }
   ],
   "source": [
    "#Transposing a matrix is done by:\n",
    "print matrix1.T"
   ]
  },
  {
   "cell_type": "code",
   "execution_count": 11,
   "metadata": {
    "collapsed": false
   },
   "outputs": [
    {
     "name": "stdout",
     "output_type": "stream",
     "text": [
      "[[  0   1   4   9  16]\n",
      " [ 25  36  49  64  81]\n",
      " [100 121 144 169 196]\n",
      " [225 256 289 324 361]]\n"
     ]
    }
   ],
   "source": [
    "# One thing about standard arithmetic operations: they apply element-wise to the elements\n",
    "# of a matrix. Here you see squaring.\n",
    "print(matrix1**2)"
   ]
  },
  {
   "cell_type": "code",
   "execution_count": 12,
   "metadata": {
    "collapsed": false
   },
   "outputs": [
    {
     "name": "stdout",
     "output_type": "stream",
     "text": [
      "First option \n",
      "[[  30   80  130  180]\n",
      " [  80  255  430  605]\n",
      " [ 130  430  730 1030]\n",
      " [ 180  605 1030 1455]]\n",
      "Second option \n",
      "[[  30   80  130  180]\n",
      " [  80  255  430  605]\n",
      " [ 130  430  730 1030]\n",
      " [ 180  605 1030 1455]]\n"
     ]
    }
   ],
   "source": [
    "# Matrix multiplication is done using the dot() function\n",
    "print \"First option \\n\",np.dot(matrix1,matrix1.T)\n",
    "# This also works:\n",
    "print \"Second option \\n\",matrix1.dot(matrix1.T)\n",
    "# It gives the same result"
   ]
  },
  {
   "cell_type": "code",
   "execution_count": 13,
   "metadata": {
    "collapsed": false
   },
   "outputs": [
    {
     "name": "stdout",
     "output_type": "stream",
     "text": [
      "[[-0.176 -0.092 -0.008  0.076]\n",
      " [-0.094 -0.048 -0.002  0.044]\n",
      " [-0.012 -0.004  0.004  0.012]\n",
      " [ 0.07   0.04   0.01  -0.02 ]\n",
      " [ 0.152  0.084  0.016 -0.052]]\n"
     ]
    }
   ],
   "source": [
    "# To obtain the inverse of a matrix use the following. Note that not all matrices are\n",
    "# invertible. However, pinv() will give you a pseudo-inverse that is obtainable for all\n",
    "# matrices. Hence this operation will always succeed.\n",
    "print(np.linalg.pinv(matrix1))"
   ]
  },
  {
   "cell_type": "code",
   "execution_count": 14,
   "metadata": {
    "collapsed": false
   },
   "outputs": [
    {
     "name": "stdout",
     "output_type": "stream",
     "text": [
      "0.0\n"
     ]
    }
   ],
   "source": [
    "# Likewise you can get the determinant of a square matrix. However, there is nothing\n",
    "# like a pseudo-determinant and hence this function works only on square matrices.\n",
    "\n",
    "matrix2 = [[1,2,3],[4,5,6],[8,9,10]]\n",
    "print(np.linalg.det(matrix2))"
   ]
  },
  {
   "cell_type": "code",
   "execution_count": 16,
   "metadata": {
    "collapsed": false
   },
   "outputs": [
    {
     "name": "stdout",
     "output_type": "stream",
     "text": [
      "15\n",
      "[0 1 2 3 4 5]\n",
      "15\n"
     ]
    }
   ],
   "source": [
    "# It will often come in handy to sum over the elements of a vector. This is what the\n",
    "# sum() function is for.\n",
    "print(vector2.sum())\n",
    "\n",
    "print vector2\n",
    "\n",
    "#But this also works!\n",
    "print(sum(vector2))"
   ]
  },
  {
   "cell_type": "code",
   "execution_count": 17,
   "metadata": {
    "collapsed": false
   },
   "outputs": [
    {
     "name": "stdout",
     "output_type": "stream",
     "text": [
      "[[ 0  1  2  3  4]\n",
      " [ 5  6  7  8  9]\n",
      " [10 11 12 13 14]\n",
      " [15 16 17 18 19]]\n",
      "190\n",
      "[30 34 38 42 46]\n",
      "[10 35 60 85]\n"
     ]
    }
   ],
   "source": [
    "# The same can be done with matrices. To sum over the columns use the argument 0. To sum\n",
    "# over rows use the argument 1. If no argument is specified, the sum over all array\n",
    "\n",
    "\n",
    "\n",
    "\n",
    "# elements will be calculated. \n",
    "print matrix1\n",
    "print(matrix1.sum())\n",
    "print(matrix1.sum(0))\n",
    "print(matrix1.sum(1))"
   ]
  },
  {
   "cell_type": "code",
   "execution_count": 18,
   "metadata": {
    "collapsed": false
   },
   "outputs": [
    {
     "name": "stdout",
     "output_type": "stream",
     "text": [
      "2.5\n"
     ]
    }
   ],
   "source": [
    "# Now instead of taking the sum of vector, you usually want to obtain its mean.\n",
    "print(vector2.mean())"
   ]
  },
  {
   "cell_type": "code",
   "execution_count": 19,
   "metadata": {
    "collapsed": false
   },
   "outputs": [
    {
     "name": "stdout",
     "output_type": "stream",
     "text": [
      "9.5\n",
      "[  7.5   8.5   9.5  10.5  11.5]\n",
      "[  2.   7.  12.  17.]\n"
     ]
    }
   ],
   "source": [
    "# There is also a similar operation for matrices,\n",
    "print(matrix1.mean())\n",
    "print(matrix1.mean(0))\n",
    "print(matrix1.mean(1))"
   ]
  },
  {
   "cell_type": "markdown",
   "metadata": {},
   "source": [
    "# Part 2\n",
    "\n",
    "These are the basics. Practice the above functions by trying out the following exercises.\n",
    "\n",
    "* plot $y = x^2$ for $x \\in [-10,10]$\n",
    "    - This means creating a vector x, creating a vector y which is x squared and then plotting x,y\n",
    "* plot a normal distribution, look up the formula\n",
    "* Sample many times from a [normal distribution](http://docs.scipy.org/doc/numpy/reference/generated/numpy.random.normal.html) and plot these as dots\n",
    "* Take your last plot and try to form it into a histogrm\n",
    "* Combine the histogram and the normal distribution in one plot\n",
    "\n",
    "If you get stuck you have several options:\n",
    "* look up [numpy](http://docs.scipy.org/doc/numpy/search.html) and [matplotlib](http://matplotlib.org/search.html) functions\n",
    "* __ask Google__, lots of people use these packages so many questions have been asked before!\n",
    "* ask your neighbor\n",
    "* ask your teachers\n",
    "\n",
    "Create a new cell by pressing \"insert\" choosing \"insert below\""
   ]
  },
  {
   "cell_type": "code",
   "execution_count": 59,
   "metadata": {
    "collapsed": false
   },
   "outputs": [
    {
     "data": {
      "text/plain": [
       "[<matplotlib.lines.Line2D at 0x1111d8e10>]"
      ]
     },
     "execution_count": 59,
     "metadata": {},
     "output_type": "execute_result"
    },
    {
     "data": {
      "image/png": "[encoded data removed]",
      "text/plain": [
       "<matplotlib.figure.Figure at 0x10b2d5d50>"
      ]
     },
     "metadata": {},
     "output_type": "display_data"
    }
   ],
   "source": [
    "# plot y = x^2 for x in [-10,10]\n",
    "\n",
    "vector_x = vector_x = np.arange(-10,11)\n",
    "vector_y = vector_x**2\n",
    "\n",
    "plt.plot(vector_x, vector_y)"
   ]
  },
  {
   "cell_type": "code",
   "execution_count": 72,
   "metadata": {
    "collapsed": false,
    "scrolled": true
   },
   "outputs": [
    {
     "name": "stdout",
     "output_type": "stream",
     "text": [
      "[-0.58197391  0.93988977 -0.09234245 -1.01446755 -0.4222271  -0.62502353\n",
      " -0.45231335 -2.60270879 -0.12771884 -0.89316454  0.45860173 -0.62949452\n",
      "  0.76921033  0.70317891 -0.68063974  1.73195486  0.69266372 -0.15663581\n",
      "  0.30212119 -0.54826057 -1.02157229 -0.52372361 -0.19925034 -2.38699118\n",
      " -1.63353556 -0.61317204  0.81832362 -1.4271724   1.23068991  0.48372405\n",
      "  1.03674405 -1.25721646 -0.06318282 -1.59036771  0.12668937 -0.26811333\n",
      "  0.51558551  0.86582899 -0.66630713 -0.23488909 -0.01435729 -0.16132267\n",
      " -0.08448674 -1.04023111  0.72418538  0.15814469  0.84862308  0.44920086\n",
      " -0.40146161  0.5969235  -1.52574321 -1.67145749 -0.50617466 -1.0709495\n",
      " -1.03936945 -0.28706304  2.47945424 -1.35501837 -1.71823309  0.15309415\n",
      "  1.79722971  0.72484616 -0.02714015  0.03311769  0.1575733  -0.39363664\n",
      " -0.69936273 -0.26331196  0.62962465 -0.93820947  0.40130968 -0.49068282\n",
      "  0.26819749 -1.7862089  -1.51438501 -0.63032737 -0.71245552  1.04670841\n",
      " -0.46253886  1.05774902  1.10321423  1.72050563  0.276582   -0.7582635\n",
      "  1.21548623  0.01714708  0.79984154 -0.43734617  0.17207239  0.39549672\n",
      " -0.69525098 -1.27847111 -0.35959338  1.27260384  1.8692908   0.01036168\n",
      "  0.05539189  0.79839759  0.6598624  -0.63013769]\n"
     ]
    },
    {
     "data": {
      "text/plain": [
       "[<matplotlib.lines.Line2D at 0x1144fbc10>]"
      ]
     },
     "execution_count": 72,
     "metadata": {},
     "output_type": "execute_result"
    },
    {
     "data": {
      "image/png": "[encoded data removed]",
      "text/plain": [
       "<matplotlib.figure.Figure at 0x112c9cf50>"
      ]
     },
     "metadata": {},
     "output_type": "display_data"
    }
   ],
   "source": [
    "# a normal distribution\n",
    "from numpy.random import normal\n",
    "normal_distribution_data = normal(size=100)\n",
    "\n",
    "plt.plot(normal_distribution_data)"
   ]
  },
  {
   "cell_type": "code",
   "execution_count": 73,
   "metadata": {
    "collapsed": false
   },
   "outputs": [
    {
     "name": "stdout",
     "output_type": "stream",
     "text": [
      "[0.27337500821466876, 0.8757404389529859, -0.47699184123195915, 0.6904794118146741, 0.26563040886950173, -0.11052677453009825, 1.2745503894614523, 1.2158242154807117, -0.14655242767325793, 0.09782979368423139, 1.2470385748824464, -0.30512844224565194, 0.7692114857342971, -0.47655040795729475, 0.9036810959970726, -0.08063188209039122, -0.3128641823103604, 1.589435832232931, -0.5158707368527783, -0.7562629888337169, -0.15645047772861512, 1.0112063646626475, -1.0474949515005556, -0.3134731893759674, 0.4199534570712927, -1.2231829574671251, -0.7530386603475531, -0.04115111757773082, -1.1798343528889148, -0.3140103299764703, 0.3655095488928706, -0.6195971890964419, -0.7557752588961426, -1.318185704535313, 1.3102309441934918, -0.012978539316196872, 0.5261155815906823, 0.24400045799561368, 0.4117532707015584, -1.3195434917586646, -1.840305674603014, -1.680862419454824, -0.11739683289747782, -1.787255816651334, -0.1809989312947326, -0.8110039787470221, -0.6090291327128292, 0.6693286007121192, -1.070068982426878, 0.7148990328547284, 0.4331875012807974, 0.8796805107941167, 0.6458426025859211, -0.29003326744846447, 0.8547610493576449, -2.2873454063348837, -1.1073202139262515, -1.8543943310289501, 1.3194800561494169, -1.0698005631053393, -0.5491713216712736, 0.8841697719956458, 0.48180150649289, -0.5852519536555097, -0.6103885713002025, -1.8318102922728925, -1.2978358526027116, -1.3699480929368897, 1.6258543953714304, 0.3915747709994333, -0.7598035242191954, -1.5429689438878547, -1.9828396002534525, 0.10401232127958862, 0.3552075244160927, -0.06710934101934983, 0.6151457272911479, -0.7711070943589043, -0.984145953008852, 0.79203324668582, 2.2543385592382084, 0.5322829196935093, -0.8662775286011117, -0.6236507559506904, -0.8819458956806634, -0.7075270340056892, 0.5972257455409896, 0.8086156145125457, -1.0891948369993791, -2.6159109601164765, 0.26144930865857785, -0.4611620109370813, -0.6552953806671691, -1.2340197723495148, 1.263193874293947, 0.5973527317947248, 0.058605179587136874, 0.14078201399825338, 1.0483917697815663, -1.2211215835560858]\n"
     ]
    }
   ],
   "source": [
    "# list_of_results is a list of 100 elements who are all random samples of a normal distribution\n",
    "x = 0\n",
    "list_of_results = []\n",
    "while x < 100:\n",
    "    list_of_results.append(numpy.random.normal(np.mean(normal_distribution_data), np.std(normal_distribution_data)))\n",
    "    x = x + 1\n",
    "    \n",
    "print list_of_results\n",
    "    "
   ]
  },
  {
   "cell_type": "code",
   "execution_count": 74,
   "metadata": {
    "collapsed": false
   },
   "outputs": [
    {
     "data": {
      "text/plain": [
       "[<matplotlib.lines.Line2D at 0x114713410>]"
      ]
     },
     "execution_count": 74,
     "metadata": {},
     "output_type": "execute_result"
    },
    {
     "data": {
      "image/png": "[encoded data removed]",
      "text/plain": [
       "<matplotlib.figure.Figure at 0x114695690>"
      ]
     },
     "metadata": {},
     "output_type": "display_data"
    }
   ],
   "source": [
    "# Samples from a normal distribution \n",
    "plt.plot(list_of_results,'o')"
   ]
  },
  {
   "cell_type": "code",
   "execution_count": 75,
   "metadata": {
    "collapsed": false
   },
   "outputs": [
    {
     "data": {
      "text/plain": [
       "(array([ 0.04106566,  0.12319697,  0.18479546,  0.30799243,  0.34905809,\n",
       "         0.32852526,  0.36959092,  0.24639395,  0.08213132,  0.02053283]),\n",
       " array([-2.61591096, -2.12888601, -1.64186106, -1.1548361 , -0.66781115,\n",
       "        -0.1807862 ,  0.30623875,  0.7932637 ,  1.28028866,  1.76731361,\n",
       "         2.25433856]),\n",
       " <a list of 10 Patch objects>)"
      ]
     },
     "execution_count": 75,
     "metadata": {},
     "output_type": "execute_result"
    },
    {
     "data": {
      "image/png": "[encoded data removed]",
      "text/plain": [
       "<matplotlib.figure.Figure at 0x1146cb4d0>"
      ]
     },
     "metadata": {},
     "output_type": "display_data"
    }
   ],
   "source": [
    "# A histogram of the last plot \n",
    "plt.hist(list_of_results,normed=True)   "
   ]
  },
  {
   "cell_type": "code",
   "execution_count": 79,
   "metadata": {
    "collapsed": false
   },
   "outputs": [
    {
     "data": {
      "image/png": "[encoded data removed]",
      "text/plain": [
       "<matplotlib.figure.Figure at 0x1148c7f50>"
      ]
     },
     "metadata": {},
     "output_type": "display_data"
    }
   ],
   "source": [
    "# Combine the histogram and the normal distribution in one plot\n",
    "plt.plot(normal_distribution_data, )\n",
    "plt.hist(list_of_results,normed=True)   \n",
    "plt.axis([-3, 3, 0, 1])\n",
    "plt.show(-3, 3)"
   ]
  }
 ],
 "metadata": {
  "anaconda-cloud": {},
  "kernelspec": {
   "display_name": "Python [Root]",
   "language": "python",
   "name": "Python [Root]"
  },
  "language_info": {
   "codemirror_mode": {
    "name": "ipython",
    "version": 2
   },
   "file_extension": ".py",
   "mimetype": "text/x-python",
   "name": "python",
   "nbconvert_exporter": "python",
   "pygments_lexer": "ipython2",
   "version": "2.7.12"
  }
 },
 "nbformat": 4,
 "nbformat_minor": 0
}
